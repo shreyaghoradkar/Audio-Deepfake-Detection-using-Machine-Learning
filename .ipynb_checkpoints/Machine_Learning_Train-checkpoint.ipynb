{
 "cells": [
  {
   "cell_type": "code",
   "execution_count": 1,
   "id": "3058853c",
   "metadata": {
    "_cell_guid": "b1076dfc-b9ad-4769-8c92-a6c4dae69d19",
    "_uuid": "8f2839f25d086af736a60e9eeb907d3b93b6e0e5",
    "execution": {
     "iopub.execute_input": "2024-10-09T18:48:11.285297Z",
     "iopub.status.busy": "2024-10-09T18:48:11.284934Z",
     "iopub.status.idle": "2024-10-09T18:48:12.106601Z",
     "shell.execute_reply": "2024-10-09T18:48:12.105675Z"
    },
    "papermill": {
     "duration": 0.83156,
     "end_time": "2024-10-09T18:48:12.109476",
     "exception": false,
     "start_time": "2024-10-09T18:48:11.277916",
     "status": "completed"
    },
    "tags": []
   },
   "outputs": [
    {
     "name": "stdout",
     "output_type": "stream",
     "text": [
      "/kaggle/input/deep-voice-deepfake-voice-recognition/KAGGLE/DATASET-balanced.csv\n",
      "/kaggle/input/deep-voice-deepfake-voice-recognition/KAGGLE/AUDIO/FAKE/trump-to-Obama.wav\n",
      "/kaggle/input/deep-voice-deepfake-voice-recognition/KAGGLE/AUDIO/FAKE/margot-to-musk.wav\n",
      "/kaggle/input/deep-voice-deepfake-voice-recognition/KAGGLE/AUDIO/FAKE/linus-to-obama.wav\n",
      "/kaggle/input/deep-voice-deepfake-voice-recognition/KAGGLE/AUDIO/FAKE/taylor-to-trump.wav\n",
      "/kaggle/input/deep-voice-deepfake-voice-recognition/KAGGLE/AUDIO/FAKE/taylor-to-biden.wav\n",
      "/kaggle/input/deep-voice-deepfake-voice-recognition/KAGGLE/AUDIO/FAKE/ryan-to-trump.wav\n",
      "/kaggle/input/deep-voice-deepfake-voice-recognition/KAGGLE/AUDIO/FAKE/obama-to-musk.wav\n",
      "/kaggle/input/deep-voice-deepfake-voice-recognition/KAGGLE/AUDIO/FAKE/musk-to-trump.wav\n",
      "/kaggle/input/deep-voice-deepfake-voice-recognition/KAGGLE/AUDIO/FAKE/ryan-to-musk.wav\n",
      "/kaggle/input/deep-voice-deepfake-voice-recognition/KAGGLE/AUDIO/FAKE/trump-to-musk.wav\n",
      "/kaggle/input/deep-voice-deepfake-voice-recognition/KAGGLE/AUDIO/FAKE/musk-to-ryan.wav\n",
      "/kaggle/input/deep-voice-deepfake-voice-recognition/KAGGLE/AUDIO/FAKE/trump-to-Biden.wav\n",
      "/kaggle/input/deep-voice-deepfake-voice-recognition/KAGGLE/AUDIO/FAKE/ryan-to-taylor.wav\n",
      "/kaggle/input/deep-voice-deepfake-voice-recognition/KAGGLE/AUDIO/FAKE/taylor-to-margot.wav\n",
      "/kaggle/input/deep-voice-deepfake-voice-recognition/KAGGLE/AUDIO/FAKE/taylor-to-linus.wav\n",
      "/kaggle/input/deep-voice-deepfake-voice-recognition/KAGGLE/AUDIO/FAKE/biden-to-margot.wav\n",
      "/kaggle/input/deep-voice-deepfake-voice-recognition/KAGGLE/AUDIO/FAKE/taylor-to-ryan.wav\n",
      "/kaggle/input/deep-voice-deepfake-voice-recognition/KAGGLE/AUDIO/FAKE/ryan-to-biden.wav\n",
      "/kaggle/input/deep-voice-deepfake-voice-recognition/KAGGLE/AUDIO/FAKE/ryan-to-obama.wav\n",
      "/kaggle/input/deep-voice-deepfake-voice-recognition/KAGGLE/AUDIO/FAKE/taylor-to-obama.wav\n",
      "/kaggle/input/deep-voice-deepfake-voice-recognition/KAGGLE/AUDIO/FAKE/margot-to-obama.wav\n",
      "/kaggle/input/deep-voice-deepfake-voice-recognition/KAGGLE/AUDIO/FAKE/ryan-to-margot.wav\n",
      "/kaggle/input/deep-voice-deepfake-voice-recognition/KAGGLE/AUDIO/FAKE/margot-to-trump.wav\n",
      "/kaggle/input/deep-voice-deepfake-voice-recognition/KAGGLE/AUDIO/FAKE/trump-to-taylor.wav\n",
      "/kaggle/input/deep-voice-deepfake-voice-recognition/KAGGLE/AUDIO/FAKE/margot-to-taylor.wav\n",
      "/kaggle/input/deep-voice-deepfake-voice-recognition/KAGGLE/AUDIO/FAKE/musk-to-margot.wav\n",
      "/kaggle/input/deep-voice-deepfake-voice-recognition/KAGGLE/AUDIO/FAKE/biden-to-linus.wav\n",
      "/kaggle/input/deep-voice-deepfake-voice-recognition/KAGGLE/AUDIO/FAKE/linus-to-ryan.wav\n",
      "/kaggle/input/deep-voice-deepfake-voice-recognition/KAGGLE/AUDIO/FAKE/biden-to-Trump.wav\n",
      "/kaggle/input/deep-voice-deepfake-voice-recognition/KAGGLE/AUDIO/FAKE/biden-to-ryan.wav\n",
      "/kaggle/input/deep-voice-deepfake-voice-recognition/KAGGLE/AUDIO/FAKE/linus-to-margot.wav\n",
      "/kaggle/input/deep-voice-deepfake-voice-recognition/KAGGLE/AUDIO/FAKE/biden-to-musk.wav\n",
      "/kaggle/input/deep-voice-deepfake-voice-recognition/KAGGLE/AUDIO/FAKE/obama-to-margot.wav\n",
      "/kaggle/input/deep-voice-deepfake-voice-recognition/KAGGLE/AUDIO/FAKE/biden-to-Obama.wav\n",
      "/kaggle/input/deep-voice-deepfake-voice-recognition/KAGGLE/AUDIO/FAKE/trump-to-margot.wav\n",
      "/kaggle/input/deep-voice-deepfake-voice-recognition/KAGGLE/AUDIO/FAKE/linus-to-biden.wav\n",
      "/kaggle/input/deep-voice-deepfake-voice-recognition/KAGGLE/AUDIO/FAKE/obama-to-taylor.wav\n",
      "/kaggle/input/deep-voice-deepfake-voice-recognition/KAGGLE/AUDIO/FAKE/linus-to-trump.wav\n",
      "/kaggle/input/deep-voice-deepfake-voice-recognition/KAGGLE/AUDIO/FAKE/biden-to-taylor.wav\n",
      "/kaggle/input/deep-voice-deepfake-voice-recognition/KAGGLE/AUDIO/FAKE/margot-to-ryan.wav\n",
      "/kaggle/input/deep-voice-deepfake-voice-recognition/KAGGLE/AUDIO/FAKE/trump-to-linus.wav\n",
      "/kaggle/input/deep-voice-deepfake-voice-recognition/KAGGLE/AUDIO/FAKE/Obama-to-Biden.wav\n",
      "/kaggle/input/deep-voice-deepfake-voice-recognition/KAGGLE/AUDIO/FAKE/linus-to-taylor.wav\n",
      "/kaggle/input/deep-voice-deepfake-voice-recognition/KAGGLE/AUDIO/FAKE/trump-to-ryan.wav\n",
      "/kaggle/input/deep-voice-deepfake-voice-recognition/KAGGLE/AUDIO/FAKE/taylor-to-musk.wav\n",
      "/kaggle/input/deep-voice-deepfake-voice-recognition/KAGGLE/AUDIO/FAKE/margot-to-biden.wav\n",
      "/kaggle/input/deep-voice-deepfake-voice-recognition/KAGGLE/AUDIO/FAKE/musk-to-linus.wav\n",
      "/kaggle/input/deep-voice-deepfake-voice-recognition/KAGGLE/AUDIO/FAKE/musk-to-obama.wav\n",
      "/kaggle/input/deep-voice-deepfake-voice-recognition/KAGGLE/AUDIO/FAKE/obama-to-linus.wav\n",
      "/kaggle/input/deep-voice-deepfake-voice-recognition/KAGGLE/AUDIO/FAKE/ryan-to-linus.wav\n",
      "/kaggle/input/deep-voice-deepfake-voice-recognition/KAGGLE/AUDIO/FAKE/Obama-to-Trump.wav\n",
      "/kaggle/input/deep-voice-deepfake-voice-recognition/KAGGLE/AUDIO/FAKE/obama-to-ryan.wav\n",
      "/kaggle/input/deep-voice-deepfake-voice-recognition/KAGGLE/AUDIO/FAKE/musk-to-taylor.wav\n",
      "/kaggle/input/deep-voice-deepfake-voice-recognition/KAGGLE/AUDIO/FAKE/linus-to-musk.wav\n",
      "/kaggle/input/deep-voice-deepfake-voice-recognition/KAGGLE/AUDIO/FAKE/musk-to-biden.wav\n",
      "/kaggle/input/deep-voice-deepfake-voice-recognition/KAGGLE/AUDIO/FAKE/margot-to-linus.wav\n",
      "/kaggle/input/deep-voice-deepfake-voice-recognition/KAGGLE/AUDIO/REAL/biden-original.wav\n",
      "/kaggle/input/deep-voice-deepfake-voice-recognition/KAGGLE/AUDIO/REAL/trump-original.wav\n",
      "/kaggle/input/deep-voice-deepfake-voice-recognition/KAGGLE/AUDIO/REAL/taylor-original.wav\n",
      "/kaggle/input/deep-voice-deepfake-voice-recognition/KAGGLE/AUDIO/REAL/obama-original.wav\n",
      "/kaggle/input/deep-voice-deepfake-voice-recognition/KAGGLE/AUDIO/REAL/margot-original.wav\n",
      "/kaggle/input/deep-voice-deepfake-voice-recognition/KAGGLE/AUDIO/REAL/linus-original.wav\n",
      "/kaggle/input/deep-voice-deepfake-voice-recognition/KAGGLE/AUDIO/REAL/musk-original.wav\n",
      "/kaggle/input/deep-voice-deepfake-voice-recognition/KAGGLE/AUDIO/REAL/ryan-original.wav\n",
      "/kaggle/input/deep-voice-deepfake-voice-recognition/DEMONSTRATION/DEMONSTRATION/linus-original-DEMO.mp3\n",
      "/kaggle/input/deep-voice-deepfake-voice-recognition/DEMONSTRATION/DEMONSTRATION/linus-to-musk-DEMO.mp3\n"
     ]
    }
   ],
   "source": [
    "\n",
    "\n",
    "import numpy as np # linear algebra\n",
    "import pandas as pd # data processing, CSV file I/O (e.g. pd.read_csv)\n",
    "\n",
    "\n",
    "import os\n",
    "for dirname, _, filenames in os.walk('/kaggle/input'):\n",
    "    for filename in filenames:\n",
    "        print(os.path.join(dirname, filename))\n",
    "\n",
    "# You can write up to 20GB to the current directory (/kaggle/working/) that gets preserved as output when you create a version using \"Save & Run All\" \n",
    "# You can also write temporary files to /kaggle/temp/, but they won't be saved outside of the current session"
   ]
  },
  {
   "cell_type": "code",
   "execution_count": 2,
   "id": "1ff89736",
   "metadata": {
    "execution": {
     "iopub.execute_input": "2024-10-09T18:48:12.121404Z",
     "iopub.status.busy": "2024-10-09T18:48:12.120523Z",
     "iopub.status.idle": "2024-10-09T18:48:26.162906Z",
     "shell.execute_reply": "2024-10-09T18:48:26.161994Z"
    },
    "papermill": {
     "duration": 14.050728,
     "end_time": "2024-10-09T18:48:26.165502",
     "exception": false,
     "start_time": "2024-10-09T18:48:12.114774",
     "status": "completed"
    },
    "tags": []
   },
   "outputs": [],
   "source": [
    "import numpy as np\n",
    "import pandas as pd\n",
    "import matplotlib.pyplot as plt\n",
    "import seaborn as sns\n",
    "import librosa\n",
    "import tensorflow as tf\n",
    "from sklearn.model_selection import train_test_split\n",
    "from sklearn.metrics import confusion_matrix, classification_report\n",
    "from tensorflow.keras.models import Sequential\n",
    "from tensorflow.keras.layers import LSTM, Dense, Dropout\n",
    "from tensorflow.keras.optimizers import Adam\n",
    "from tensorflow.keras.utils import to_categorical"
   ]
  },
  {
   "cell_type": "code",
   "execution_count": 3,
   "id": "6009cbde",
   "metadata": {
    "execution": {
     "iopub.execute_input": "2024-10-09T18:48:26.177403Z",
     "iopub.status.busy": "2024-10-09T18:48:26.176800Z",
     "iopub.status.idle": "2024-10-09T18:48:26.183899Z",
     "shell.execute_reply": "2024-10-09T18:48:26.183017Z"
    },
    "papermill": {
     "duration": 0.014924,
     "end_time": "2024-10-09T18:48:26.185779",
     "exception": false,
     "start_time": "2024-10-09T18:48:26.170855",
     "status": "completed"
    },
    "tags": []
   },
   "outputs": [],
   "source": [
    "def load_and_preprocess_data(audio_path, label):\n",
    "    audio, sr = librosa.load(audio_path, sr=None)\n",
    "    mfccs = librosa.feature.mfcc(y=audio, sr=sr, n_mfcc=13)\n",
    "    return mfccs.T, label\n",
    "\n",
    "def prepare_dataset(real_paths, fake_paths):\n",
    "    X, y = [], []\n",
    "    \n",
    "    for path in real_paths:\n",
    "        features, label = load_and_preprocess_data(path, 0)\n",
    "        X.append(features)\n",
    "        y.append(label)\n",
    "    \n",
    "    for path in fake_paths:\n",
    "        features, label = load_and_preprocess_data(path, 1)\n",
    "        X.append(features)\n",
    "        y.append(label)\n",
    "    \n",
    "    return X, np.array(y)"
   ]
  },
  {
   "cell_type": "code",
   "execution_count": 4,
   "id": "175a70ee",
   "metadata": {
    "execution": {
     "iopub.execute_input": "2024-10-09T18:48:26.197071Z",
     "iopub.status.busy": "2024-10-09T18:48:26.196469Z",
     "iopub.status.idle": "2024-10-09T18:48:26.204078Z",
     "shell.execute_reply": "2024-10-09T18:48:26.203166Z"
    },
    "papermill": {
     "duration": 0.015323,
     "end_time": "2024-10-09T18:48:26.205939",
     "exception": false,
     "start_time": "2024-10-09T18:48:26.190616",
     "status": "completed"
    },
    "tags": []
   },
   "outputs": [],
   "source": [
    "def augment_data(X, y):\n",
    "    augmented_X, augmented_y = [], []\n",
    "    \n",
    "    for features, label in zip(X, y):\n",
    "        augmented_X.append(features)\n",
    "        augmented_y.append(label)\n",
    "        \n",
    "        # Time stretching (done on the audio signal before MFCC extraction)\n",
    "        audio_signal = librosa.effects.time_stretch(features.T[0], rate=0.8)  # Simulate on audio signal\n",
    "        augmented_X.append(librosa.feature.mfcc(y=audio_signal, sr=22050, n_mfcc=13).T)\n",
    "        augmented_y.append(label)\n",
    "        \n",
    "        # Pitch shifting\n",
    "        audio_signal_shifted = librosa.effects.pitch_shift(features.T[0], sr=22050, n_steps=2)\n",
    "        augmented_X.append(librosa.feature.mfcc(y=audio_signal_shifted, sr=22050, n_mfcc=13).T)\n",
    "        augmented_y.append(label)\n",
    "    \n",
    "    return augmented_X, np.array(augmented_y)\n"
   ]
  },
  {
   "cell_type": "code",
   "execution_count": 5,
   "id": "b9a3b48e",
   "metadata": {
    "execution": {
     "iopub.execute_input": "2024-10-09T18:48:26.218050Z",
     "iopub.status.busy": "2024-10-09T18:48:26.217767Z",
     "iopub.status.idle": "2024-10-09T18:48:26.223896Z",
     "shell.execute_reply": "2024-10-09T18:48:26.222972Z"
    },
    "papermill": {
     "duration": 0.015206,
     "end_time": "2024-10-09T18:48:26.226058",
     "exception": false,
     "start_time": "2024-10-09T18:48:26.210852",
     "status": "completed"
    },
    "tags": []
   },
   "outputs": [],
   "source": [
    "def create_model(input_shape):\n",
    "    model = Sequential([\n",
    "        Input(shape=input_shape),\n",
    "        Masking(mask_value=0.),\n",
    "        LSTM(64, return_sequences=True),\n",
    "        Dropout(0.2),\n",
    "        LSTM(32),\n",
    "        Dropout(0.2),\n",
    "        Dense(16, activation='relu'),\n",
    "        Dense(2, activation='softmax')\n",
    "    ])\n",
    "    \n",
    "    model.compile(optimizer=Adam(learning_rate=0.001),\n",
    "                  loss='categorical_crossentropy',\n",
    "                  metrics=['accuracy'])\n",
    "    \n",
    "    return model"
   ]
  },
  {
   "cell_type": "code",
   "execution_count": 6,
   "id": "242c0188",
   "metadata": {
    "execution": {
     "iopub.execute_input": "2024-10-09T18:48:26.237951Z",
     "iopub.status.busy": "2024-10-09T18:48:26.237593Z",
     "iopub.status.idle": "2024-10-09T18:48:26.243063Z",
     "shell.execute_reply": "2024-10-09T18:48:26.242154Z"
    },
    "papermill": {
     "duration": 0.013542,
     "end_time": "2024-10-09T18:48:26.245069",
     "exception": false,
     "start_time": "2024-10-09T18:48:26.231527",
     "status": "completed"
    },
    "tags": []
   },
   "outputs": [],
   "source": [
    "def train_and_evaluate(model, X_train, y_train, X_test, y_test, epochs=50, batch_size=32):\n",
    "    history = model.fit(X_train, y_train, epochs=epochs, batch_size=batch_size,\n",
    "                        validation_split=0.2, verbose=1)\n",
    "    \n",
    "    test_loss, test_acc = model.evaluate(X_test, y_test, verbose=0)\n",
    "    print(f\"Test accuracy: {test_acc:.4f}\")\n",
    "    \n",
    "    return history"
   ]
  },
  {
   "cell_type": "code",
   "execution_count": 7,
   "id": "4da1aaf8",
   "metadata": {
    "execution": {
     "iopub.execute_input": "2024-10-09T18:48:26.256973Z",
     "iopub.status.busy": "2024-10-09T18:48:26.256131Z",
     "iopub.status.idle": "2024-10-09T18:48:26.263671Z",
     "shell.execute_reply": "2024-10-09T18:48:26.262935Z"
    },
    "papermill": {
     "duration": 0.015614,
     "end_time": "2024-10-09T18:48:26.265698",
     "exception": false,
     "start_time": "2024-10-09T18:48:26.250084",
     "status": "completed"
    },
    "tags": []
   },
   "outputs": [],
   "source": [
    "def plot_training_history(history):\n",
    "    plt.figure(figsize=(12, 4))\n",
    "    \n",
    "    plt.subplot(1, 2, 1)\n",
    "    plt.plot(history.history['accuracy'], label='Training Accuracy')\n",
    "    plt.plot(history.history['val_accuracy'], label='Validation Accuracy')\n",
    "    plt.title('Model Accuracy')\n",
    "    plt.xlabel('Epoch')\n",
    "    plt.ylabel('Accuracy')\n",
    "    plt.legend()\n",
    "    \n",
    "    plt.subplot(1, 2, 2)\n",
    "    plt.plot(history.history['loss'], label='Training Loss')\n",
    "    plt.plot(history.history['val_loss'], label='Validation Loss')\n",
    "    plt.title('Model Loss')\n",
    "    plt.xlabel('Epoch')\n",
    "    plt.ylabel('Loss')\n",
    "    plt.legend()\n",
    "    \n",
    "    plt.tight_layout()\n",
    "    plt.show()"
   ]
  },
  {
   "cell_type": "code",
   "execution_count": 8,
   "id": "b3ba4fbe",
   "metadata": {
    "execution": {
     "iopub.execute_input": "2024-10-09T18:48:26.276981Z",
     "iopub.status.busy": "2024-10-09T18:48:26.276676Z",
     "iopub.status.idle": "2024-10-09T18:48:26.282141Z",
     "shell.execute_reply": "2024-10-09T18:48:26.281286Z"
    },
    "papermill": {
     "duration": 0.013309,
     "end_time": "2024-10-09T18:48:26.284105",
     "exception": false,
     "start_time": "2024-10-09T18:48:26.270796",
     "status": "completed"
    },
    "tags": []
   },
   "outputs": [],
   "source": [
    "def plot_confusion_matrix(y_true, y_pred):\n",
    "    cm = confusion_matrix(y_true.argmax(axis=1), y_pred.argmax(axis=1))\n",
    "    plt.figure(figsize=(8, 6))\n",
    "    sns.heatmap(cm, annot=True, fmt='d', cmap='Blues')\n",
    "    plt.title('Confusion Matrix')\n",
    "    plt.xlabel('Predicted')\n",
    "    plt.ylabel('True')\n",
    "    plt.show()"
   ]
  },
  {
   "cell_type": "code",
   "execution_count": 9,
   "id": "a241b79e",
   "metadata": {
    "execution": {
     "iopub.execute_input": "2024-10-09T18:48:26.295259Z",
     "iopub.status.busy": "2024-10-09T18:48:26.294969Z",
     "iopub.status.idle": "2024-10-09T18:48:26.299225Z",
     "shell.execute_reply": "2024-10-09T18:48:26.298309Z"
    },
    "papermill": {
     "duration": 0.011942,
     "end_time": "2024-10-09T18:48:26.301138",
     "exception": false,
     "start_time": "2024-10-09T18:48:26.289196",
     "status": "completed"
    },
    "tags": []
   },
   "outputs": [],
   "source": [
    "import os"
   ]
  },
  {
   "cell_type": "code",
   "execution_count": 10,
   "id": "5aa6077c",
   "metadata": {
    "execution": {
     "iopub.execute_input": "2024-10-09T18:48:26.311914Z",
     "iopub.status.busy": "2024-10-09T18:48:26.311585Z",
     "iopub.status.idle": "2024-10-09T18:48:26.315448Z",
     "shell.execute_reply": "2024-10-09T18:48:26.314591Z"
    },
    "papermill": {
     "duration": 0.011515,
     "end_time": "2024-10-09T18:48:26.317408",
     "exception": false,
     "start_time": "2024-10-09T18:48:26.305893",
     "status": "completed"
    },
    "tags": []
   },
   "outputs": [],
   "source": [
    "base_path = \"/kaggle/input/deep-voice-deepfake-voice-recognition/KAGGLE/AUDIO\""
   ]
  },
  {
   "cell_type": "code",
   "execution_count": 11,
   "id": "a8308d8b",
   "metadata": {
    "execution": {
     "iopub.execute_input": "2024-10-09T18:48:26.328071Z",
     "iopub.status.busy": "2024-10-09T18:48:26.327791Z",
     "iopub.status.idle": "2024-10-09T18:48:26.332555Z",
     "shell.execute_reply": "2024-10-09T18:48:26.331837Z"
    },
    "papermill": {
     "duration": 0.012215,
     "end_time": "2024-10-09T18:48:26.334482",
     "exception": false,
     "start_time": "2024-10-09T18:48:26.322267",
     "status": "completed"
    },
    "tags": []
   },
   "outputs": [],
   "source": [
    "from tensorflow.keras.preprocessing.sequence import pad_sequences"
   ]
  },
  {
   "cell_type": "code",
   "execution_count": 12,
   "id": "9cd8a78a",
   "metadata": {
    "execution": {
     "iopub.execute_input": "2024-10-09T18:48:26.345457Z",
     "iopub.status.busy": "2024-10-09T18:48:26.345151Z",
     "iopub.status.idle": "2024-10-09T18:48:26.349472Z",
     "shell.execute_reply": "2024-10-09T18:48:26.348534Z"
    },
    "papermill": {
     "duration": 0.011836,
     "end_time": "2024-10-09T18:48:26.351411",
     "exception": false,
     "start_time": "2024-10-09T18:48:26.339575",
     "status": "completed"
    },
    "tags": []
   },
   "outputs": [],
   "source": [
    "from tensorflow.keras.layers import Input, Masking\n"
   ]
  },
  {
   "cell_type": "code",
   "execution_count": 13,
   "id": "70208a2b",
   "metadata": {
    "execution": {
     "iopub.execute_input": "2024-10-09T18:48:26.362360Z",
     "iopub.status.busy": "2024-10-09T18:48:26.362075Z",
     "iopub.status.idle": "2024-10-09T19:00:40.832905Z",
     "shell.execute_reply": "2024-10-09T19:00:40.831666Z"
    },
    "papermill": {
     "duration": 734.479379,
     "end_time": "2024-10-09T19:00:40.835559",
     "exception": false,
     "start_time": "2024-10-09T18:48:26.356180",
     "status": "completed"
    },
    "tags": []
   },
   "outputs": [
    {
     "name": "stdout",
     "output_type": "stream",
     "text": [
      "Epoch 1/50\n",
      "\u001b[1m4/4\u001b[0m \u001b[32m━━━━━━━━━━━━━━━━━━━━\u001b[0m\u001b[37m\u001b[0m \u001b[1m15s\u001b[0m 3s/step - accuracy: 0.7685 - loss: 0.5896 - val_accuracy: 0.8710 - val_loss: 0.4836\n",
      "Epoch 2/50\n",
      "\u001b[1m4/4\u001b[0m \u001b[32m━━━━━━━━━━━━━━━━━━━━\u001b[0m\u001b[37m\u001b[0m \u001b[1m10s\u001b[0m 3s/step - accuracy: 0.8822 - loss: 0.4487 - val_accuracy: 0.8710 - val_loss: 0.4025\n",
      "Epoch 3/50\n",
      "\u001b[1m4/4\u001b[0m \u001b[32m━━━━━━━━━━━━━━━━━━━━\u001b[0m\u001b[37m\u001b[0m \u001b[1m10s\u001b[0m 3s/step - accuracy: 0.8801 - loss: 0.3950 - val_accuracy: 0.8710 - val_loss: 0.3812\n",
      "Epoch 4/50\n",
      "\u001b[1m4/4\u001b[0m \u001b[32m━━━━━━━━━━━━━━━━━━━━\u001b[0m\u001b[37m\u001b[0m \u001b[1m10s\u001b[0m 3s/step - accuracy: 0.8916 - loss: 0.3426 - val_accuracy: 0.8710 - val_loss: 0.3844\n",
      "Epoch 5/50\n",
      "\u001b[1m4/4\u001b[0m \u001b[32m━━━━━━━━━━━━━━━━━━━━\u001b[0m\u001b[37m\u001b[0m \u001b[1m10s\u001b[0m 3s/step - accuracy: 0.8833 - loss: 0.3488 - val_accuracy: 0.8710 - val_loss: 0.3750\n",
      "Epoch 6/50\n",
      "\u001b[1m4/4\u001b[0m \u001b[32m━━━━━━━━━━━━━━━━━━━━\u001b[0m\u001b[37m\u001b[0m \u001b[1m10s\u001b[0m 3s/step - accuracy: 0.8666 - loss: 0.3751 - val_accuracy: 0.8710 - val_loss: 0.3730\n",
      "Epoch 7/50\n",
      "\u001b[1m4/4\u001b[0m \u001b[32m━━━━━━━━━━━━━━━━━━━━\u001b[0m\u001b[37m\u001b[0m \u001b[1m10s\u001b[0m 3s/step - accuracy: 0.9062 - loss: 0.2867 - val_accuracy: 0.8710 - val_loss: 0.3625\n",
      "Epoch 8/50\n",
      "\u001b[1m4/4\u001b[0m \u001b[32m━━━━━━━━━━━━━━━━━━━━\u001b[0m\u001b[37m\u001b[0m \u001b[1m10s\u001b[0m 3s/step - accuracy: 0.8937 - loss: 0.3076 - val_accuracy: 0.8710 - val_loss: 0.3567\n",
      "Epoch 9/50\n",
      "\u001b[1m4/4\u001b[0m \u001b[32m━━━━━━━━━━━━━━━━━━━━\u001b[0m\u001b[37m\u001b[0m \u001b[1m10s\u001b[0m 3s/step - accuracy: 0.8770 - loss: 0.3359 - val_accuracy: 0.8710 - val_loss: 0.3520\n",
      "Epoch 10/50\n",
      "\u001b[1m4/4\u001b[0m \u001b[32m━━━━━━━━━━━━━━━━━━━━\u001b[0m\u001b[37m\u001b[0m \u001b[1m10s\u001b[0m 3s/step - accuracy: 0.8812 - loss: 0.3200 - val_accuracy: 0.8710 - val_loss: 0.3418\n",
      "Epoch 11/50\n",
      "\u001b[1m4/4\u001b[0m \u001b[32m━━━━━━━━━━━━━━━━━━━━\u001b[0m\u001b[37m\u001b[0m \u001b[1m10s\u001b[0m 3s/step - accuracy: 0.8853 - loss: 0.3033 - val_accuracy: 0.8710 - val_loss: 0.3629\n",
      "Epoch 12/50\n",
      "\u001b[1m4/4\u001b[0m \u001b[32m━━━━━━━━━━━━━━━━━━━━\u001b[0m\u001b[37m\u001b[0m \u001b[1m10s\u001b[0m 3s/step - accuracy: 0.8699 - loss: 0.3493 - val_accuracy: 0.8710 - val_loss: 0.3504\n",
      "Epoch 13/50\n",
      "\u001b[1m4/4\u001b[0m \u001b[32m━━━━━━━━━━━━━━━━━━━━\u001b[0m\u001b[37m\u001b[0m \u001b[1m10s\u001b[0m 3s/step - accuracy: 0.8940 - loss: 0.2996 - val_accuracy: 0.8710 - val_loss: 0.3407\n",
      "Epoch 14/50\n",
      "\u001b[1m4/4\u001b[0m \u001b[32m━━━━━━━━━━━━━━━━━━━━\u001b[0m\u001b[37m\u001b[0m \u001b[1m10s\u001b[0m 3s/step - accuracy: 0.9032 - loss: 0.2579 - val_accuracy: 0.8710 - val_loss: 0.3325\n",
      "Epoch 15/50\n",
      "\u001b[1m4/4\u001b[0m \u001b[32m━━━━━━━━━━━━━━━━━━━━\u001b[0m\u001b[37m\u001b[0m \u001b[1m10s\u001b[0m 3s/step - accuracy: 0.9160 - loss: 0.2478 - val_accuracy: 0.8710 - val_loss: 0.3459\n",
      "Epoch 16/50\n",
      "\u001b[1m4/4\u001b[0m \u001b[32m━━━━━━━━━━━━━━━━━━━━\u001b[0m\u001b[37m\u001b[0m \u001b[1m10s\u001b[0m 3s/step - accuracy: 0.8602 - loss: 0.3056 - val_accuracy: 0.8065 - val_loss: 0.3579\n",
      "Epoch 17/50\n",
      "\u001b[1m4/4\u001b[0m \u001b[32m━━━━━━━━━━━━━━━━━━━━\u001b[0m\u001b[37m\u001b[0m \u001b[1m10s\u001b[0m 3s/step - accuracy: 0.8895 - loss: 0.2647 - val_accuracy: 0.8710 - val_loss: 0.3291\n",
      "Epoch 18/50\n",
      "\u001b[1m4/4\u001b[0m \u001b[32m━━━━━━━━━━━━━━━━━━━━\u001b[0m\u001b[37m\u001b[0m \u001b[1m11s\u001b[0m 3s/step - accuracy: 0.9370 - loss: 0.2106 - val_accuracy: 0.8710 - val_loss: 0.3424\n",
      "Epoch 19/50\n",
      "\u001b[1m4/4\u001b[0m \u001b[32m━━━━━━━━━━━━━━━━━━━━\u001b[0m\u001b[37m\u001b[0m \u001b[1m10s\u001b[0m 3s/step - accuracy: 0.9299 - loss: 0.2360 - val_accuracy: 0.8710 - val_loss: 0.2979\n",
      "Epoch 20/50\n",
      "\u001b[1m4/4\u001b[0m \u001b[32m━━━━━━━━━━━━━━━━━━━━\u001b[0m\u001b[37m\u001b[0m \u001b[1m11s\u001b[0m 3s/step - accuracy: 0.8869 - loss: 0.3156 - val_accuracy: 0.8710 - val_loss: 0.2689\n",
      "Epoch 21/50\n",
      "\u001b[1m4/4\u001b[0m \u001b[32m━━━━━━━━━━━━━━━━━━━━\u001b[0m\u001b[37m\u001b[0m \u001b[1m10s\u001b[0m 3s/step - accuracy: 0.9186 - loss: 0.2695 - val_accuracy: 0.8710 - val_loss: 0.2979\n",
      "Epoch 22/50\n",
      "\u001b[1m4/4\u001b[0m \u001b[32m━━━━━━━━━━━━━━━━━━━━\u001b[0m\u001b[37m\u001b[0m \u001b[1m10s\u001b[0m 3s/step - accuracy: 0.9075 - loss: 0.2096 - val_accuracy: 0.9032 - val_loss: 0.2684\n",
      "Epoch 23/50\n",
      "\u001b[1m4/4\u001b[0m \u001b[32m━━━━━━━━━━━━━━━━━━━━\u001b[0m\u001b[37m\u001b[0m \u001b[1m11s\u001b[0m 3s/step - accuracy: 0.9278 - loss: 0.2237 - val_accuracy: 0.9032 - val_loss: 0.2809\n",
      "Epoch 24/50\n",
      "\u001b[1m4/4\u001b[0m \u001b[32m━━━━━━━━━━━━━━━━━━━━\u001b[0m\u001b[37m\u001b[0m \u001b[1m10s\u001b[0m 3s/step - accuracy: 0.9477 - loss: 0.1669 - val_accuracy: 0.7097 - val_loss: 0.4294\n",
      "Epoch 25/50\n",
      "\u001b[1m4/4\u001b[0m \u001b[32m━━━━━━━━━━━━━━━━━━━━\u001b[0m\u001b[37m\u001b[0m \u001b[1m10s\u001b[0m 3s/step - accuracy: 0.8088 - loss: 0.3122 - val_accuracy: 0.9355 - val_loss: 0.2570\n",
      "Epoch 26/50\n",
      "\u001b[1m4/4\u001b[0m \u001b[32m━━━━━━━━━━━━━━━━━━━━\u001b[0m\u001b[37m\u001b[0m \u001b[1m11s\u001b[0m 3s/step - accuracy: 0.9300 - loss: 0.1825 - val_accuracy: 0.9355 - val_loss: 0.2542\n",
      "Epoch 27/50\n",
      "\u001b[1m4/4\u001b[0m \u001b[32m━━━━━━━━━━━━━━━━━━━━\u001b[0m\u001b[37m\u001b[0m \u001b[1m10s\u001b[0m 3s/step - accuracy: 0.9279 - loss: 0.2033 - val_accuracy: 0.9032 - val_loss: 0.2757\n",
      "Epoch 28/50\n",
      "\u001b[1m4/4\u001b[0m \u001b[32m━━━━━━━━━━━━━━━━━━━━\u001b[0m\u001b[37m\u001b[0m \u001b[1m10s\u001b[0m 3s/step - accuracy: 0.9467 - loss: 0.1874 - val_accuracy: 0.9355 - val_loss: 0.2508\n",
      "Epoch 29/50\n",
      "\u001b[1m4/4\u001b[0m \u001b[32m━━━━━━━━━━━━━━━━━━━━\u001b[0m\u001b[37m\u001b[0m \u001b[1m10s\u001b[0m 3s/step - accuracy: 0.9428 - loss: 0.2288 - val_accuracy: 0.9355 - val_loss: 0.2434\n",
      "Epoch 30/50\n",
      "\u001b[1m4/4\u001b[0m \u001b[32m━━━━━━━━━━━━━━━━━━━━\u001b[0m\u001b[37m\u001b[0m \u001b[1m10s\u001b[0m 3s/step - accuracy: 0.9456 - loss: 0.1726 - val_accuracy: 0.9032 - val_loss: 0.2572\n",
      "Epoch 31/50\n",
      "\u001b[1m4/4\u001b[0m \u001b[32m━━━━━━━━━━━━━━━━━━━━\u001b[0m\u001b[37m\u001b[0m \u001b[1m10s\u001b[0m 3s/step - accuracy: 0.9425 - loss: 0.1592 - val_accuracy: 0.9032 - val_loss: 0.2538\n",
      "Epoch 32/50\n",
      "\u001b[1m4/4\u001b[0m \u001b[32m━━━━━━━━━━━━━━━━━━━━\u001b[0m\u001b[37m\u001b[0m \u001b[1m10s\u001b[0m 3s/step - accuracy: 0.9616 - loss: 0.1719 - val_accuracy: 0.9355 - val_loss: 0.2258\n",
      "Epoch 33/50\n",
      "\u001b[1m4/4\u001b[0m \u001b[32m━━━━━━━━━━━━━━━━━━━━\u001b[0m\u001b[37m\u001b[0m \u001b[1m10s\u001b[0m 3s/step - accuracy: 0.9151 - loss: 0.2417 - val_accuracy: 0.9032 - val_loss: 0.2570\n",
      "Epoch 34/50\n",
      "\u001b[1m4/4\u001b[0m \u001b[32m━━━━━━━━━━━━━━━━━━━━\u001b[0m\u001b[37m\u001b[0m \u001b[1m10s\u001b[0m 3s/step - accuracy: 0.9062 - loss: 0.2258 - val_accuracy: 0.9032 - val_loss: 0.2662\n",
      "Epoch 35/50\n",
      "\u001b[1m4/4\u001b[0m \u001b[32m━━━━━━━━━━━━━━━━━━━━\u001b[0m\u001b[37m\u001b[0m \u001b[1m10s\u001b[0m 3s/step - accuracy: 0.9364 - loss: 0.2339 - val_accuracy: 0.9355 - val_loss: 0.2123\n",
      "Epoch 36/50\n",
      "\u001b[1m4/4\u001b[0m \u001b[32m━━━━━━━━━━━━━━━━━━━━\u001b[0m\u001b[37m\u001b[0m \u001b[1m10s\u001b[0m 3s/step - accuracy: 0.9360 - loss: 0.1714 - val_accuracy: 0.8710 - val_loss: 0.2585\n",
      "Epoch 37/50\n",
      "\u001b[1m4/4\u001b[0m \u001b[32m━━━━━━━━━━━━━━━━━━━━\u001b[0m\u001b[37m\u001b[0m \u001b[1m10s\u001b[0m 3s/step - accuracy: 0.9425 - loss: 0.2010 - val_accuracy: 0.9032 - val_loss: 0.3095\n",
      "Epoch 38/50\n",
      "\u001b[1m4/4\u001b[0m \u001b[32m━━━━━━━━━━━━━━━━━━━━\u001b[0m\u001b[37m\u001b[0m \u001b[1m10s\u001b[0m 3s/step - accuracy: 0.9573 - loss: 0.1775 - val_accuracy: 0.9032 - val_loss: 0.2910\n",
      "Epoch 39/50\n",
      "\u001b[1m4/4\u001b[0m \u001b[32m━━━━━━━━━━━━━━━━━━━━\u001b[0m\u001b[37m\u001b[0m \u001b[1m10s\u001b[0m 3s/step - accuracy: 0.9708 - loss: 0.1181 - val_accuracy: 0.9355 - val_loss: 0.2020\n",
      "Epoch 40/50\n",
      "\u001b[1m4/4\u001b[0m \u001b[32m━━━━━━━━━━━━━━━━━━━━\u001b[0m\u001b[37m\u001b[0m \u001b[1m10s\u001b[0m 3s/step - accuracy: 0.8993 - loss: 0.2392 - val_accuracy: 0.6774 - val_loss: 0.4756\n",
      "Epoch 41/50\n",
      "\u001b[1m4/4\u001b[0m \u001b[32m━━━━━━━━━━━━━━━━━━━━\u001b[0m\u001b[37m\u001b[0m \u001b[1m10s\u001b[0m 3s/step - accuracy: 0.8230 - loss: 0.3042 - val_accuracy: 0.9032 - val_loss: 0.2378\n",
      "Epoch 42/50\n",
      "\u001b[1m4/4\u001b[0m \u001b[32m━━━━━━━━━━━━━━━━━━━━\u001b[0m\u001b[37m\u001b[0m \u001b[1m10s\u001b[0m 3s/step - accuracy: 0.9394 - loss: 0.2102 - val_accuracy: 0.9032 - val_loss: 0.3425\n",
      "Epoch 43/50\n",
      "\u001b[1m4/4\u001b[0m \u001b[32m━━━━━━━━━━━━━━━━━━━━\u001b[0m\u001b[37m\u001b[0m \u001b[1m10s\u001b[0m 3s/step - accuracy: 0.9245 - loss: 0.2457 - val_accuracy: 0.9032 - val_loss: 0.3332\n",
      "Epoch 44/50\n",
      "\u001b[1m4/4\u001b[0m \u001b[32m━━━━━━━━━━━━━━━━━━━━\u001b[0m\u001b[37m\u001b[0m \u001b[1m10s\u001b[0m 3s/step - accuracy: 0.9349 - loss: 0.2205 - val_accuracy: 0.9032 - val_loss: 0.3134\n",
      "Epoch 45/50\n",
      "\u001b[1m4/4\u001b[0m \u001b[32m━━━━━━━━━━━━━━━━━━━━\u001b[0m\u001b[37m\u001b[0m \u001b[1m10s\u001b[0m 3s/step - accuracy: 0.9287 - loss: 0.2239 - val_accuracy: 0.9032 - val_loss: 0.2964\n",
      "Epoch 46/50\n",
      "\u001b[1m4/4\u001b[0m \u001b[32m━━━━━━━━━━━━━━━━━━━━\u001b[0m\u001b[37m\u001b[0m \u001b[1m10s\u001b[0m 3s/step - accuracy: 0.9287 - loss: 0.2259 - val_accuracy: 0.9032 - val_loss: 0.2897\n",
      "Epoch 47/50\n",
      "\u001b[1m4/4\u001b[0m \u001b[32m━━━━━━━━━━━━━━━━━━━━\u001b[0m\u001b[37m\u001b[0m \u001b[1m10s\u001b[0m 3s/step - accuracy: 0.9193 - loss: 0.2541 - val_accuracy: 0.9032 - val_loss: 0.2892\n",
      "Epoch 48/50\n",
      "\u001b[1m4/4\u001b[0m \u001b[32m━━━━━━━━━━━━━━━━━━━━\u001b[0m\u001b[37m\u001b[0m \u001b[1m10s\u001b[0m 3s/step - accuracy: 0.9245 - loss: 0.2345 - val_accuracy: 0.9032 - val_loss: 0.2891\n",
      "Epoch 49/50\n",
      "\u001b[1m4/4\u001b[0m \u001b[32m━━━━━━━━━━━━━━━━━━━━\u001b[0m\u001b[37m\u001b[0m \u001b[1m10s\u001b[0m 3s/step - accuracy: 0.9110 - loss: 0.2560 - val_accuracy: 0.9032 - val_loss: 0.2875\n",
      "Epoch 50/50\n",
      "\u001b[1m4/4\u001b[0m \u001b[32m━━━━━━━━━━━━━━━━━━━━\u001b[0m\u001b[37m\u001b[0m \u001b[1m11s\u001b[0m 3s/step - accuracy: 0.9382 - loss: 0.2222 - val_accuracy: 0.9032 - val_loss: 0.2843\n",
      "Test accuracy: 0.8462\n"
     ]
    },
    {
     "data": {
      "image/png": "[encoded data removed]",
      "text/plain": [
       "<Figure size 1200x400 with 2 Axes>"
      ]
     },
     "metadata": {},
     "output_type": "display_data"
    },
    {
     "name": "stdout",
     "output_type": "stream",
     "text": [
      "\u001b[1m2/2\u001b[0m \u001b[32m━━━━━━━━━━━━━━━━━━━━\u001b[0m\u001b[37m\u001b[0m \u001b[1m3s\u001b[0m 1s/step\n"
     ]
    },
    {
     "data": {
      "image/png": "[encoded data removed]",
      "text/plain": [
       "<Figure size 800x600 with 2 Axes>"
      ]
     },
     "metadata": {},
     "output_type": "display_data"
    },
    {
     "name": "stdout",
     "output_type": "stream",
     "text": [
      "              precision    recall  f1-score   support\n",
      "\n",
      "           0       0.00      0.00      0.00         6\n",
      "           1       0.85      1.00      0.92        33\n",
      "\n",
      "    accuracy                           0.85        39\n",
      "   macro avg       0.42      0.50      0.46        39\n",
      "weighted avg       0.72      0.85      0.78        39\n",
      "\n",
      "Number of real audio samples: 8\n",
      "Number of fake audio samples: 56\n",
      "Total number of samples: 64\n",
      "Shape of padded dataset: (192, 56293, 13)\n",
      "Maximum sequence length: 56293\n",
      "Shape of X_train: (153, 56293, 13)\n",
      "Shape of X_test: (39, 56293, 13)\n"
     ]
    },
    {
     "name": "stderr",
     "output_type": "stream",
     "text": [
      "/opt/conda/lib/python3.10/site-packages/sklearn/metrics/_classification.py:1344: UndefinedMetricWarning: Precision and F-score are ill-defined and being set to 0.0 in labels with no predicted samples. Use `zero_division` parameter to control this behavior.\n",
      "  _warn_prf(average, modifier, msg_start, len(result))\n",
      "/opt/conda/lib/python3.10/site-packages/sklearn/metrics/_classification.py:1344: UndefinedMetricWarning: Precision and F-score are ill-defined and being set to 0.0 in labels with no predicted samples. Use `zero_division` parameter to control this behavior.\n",
      "  _warn_prf(average, modifier, msg_start, len(result))\n",
      "/opt/conda/lib/python3.10/site-packages/sklearn/metrics/_classification.py:1344: UndefinedMetricWarning: Precision and F-score are ill-defined and being set to 0.0 in labels with no predicted samples. Use `zero_division` parameter to control this behavior.\n",
      "  _warn_prf(average, modifier, msg_start, len(result))\n"
     ]
    }
   ],
   "source": [
    "real_paths = [os.path.join(base_path, \"REAL\", f) for f in os.listdir(os.path.join(base_path, \"REAL\")) if f.endswith('.wav')]\n",
    "fake_paths = [os.path.join(base_path, \"FAKE\", f) for f in os.listdir(os.path.join(base_path, \"FAKE\")) if f.endswith('.wav')]\n",
    "\n",
    "# Prepare and augment the dataset\n",
    "X, y = prepare_dataset(real_paths, fake_paths)\n",
    "X_augmented, y_augmented = augment_data(X, y)\n",
    "\n",
    "# Pad sequences\n",
    "max_length = max(len(seq) for seq in X_augmented)\n",
    "X_padded = pad_sequences(X_augmented, maxlen=max_length, dtype='float32', padding='post', truncating='post')\n",
    "\n",
    "# Split the data\n",
    "X_train, X_test, y_train, y_test = train_test_split(X_padded, y_augmented, test_size=0.2, random_state=42)\n",
    "\n",
    "# Convert labels to categorical\n",
    "y_train = to_categorical(y_train)\n",
    "y_test = to_categorical(y_test)\n",
    "\n",
    "# Create and train the model\n",
    "model = create_model(input_shape=(X_train.shape[1], X_train.shape[2]))\n",
    "history = train_and_evaluate(model, X_train, y_train, X_test, y_test)\n",
    "\n",
    "# Visualize the results\n",
    "plot_training_history(history)\n",
    "\n",
    "y_pred = model.predict(X_test)\n",
    "plot_confusion_matrix(y_test, y_pred)\n",
    "\n",
    "print(classification_report(y_test.argmax(axis=1), y_pred.argmax(axis=1)))\n",
    "\n",
    "# Optional: Print dataset statistics\n",
    "print(f\"Number of real audio samples: {len(real_paths)}\")\n",
    "print(f\"Number of fake audio samples: {len(fake_paths)}\")\n",
    "print(f\"Total number of samples: {len(real_paths) + len(fake_paths)}\")\n",
    "print(f\"Shape of padded dataset: {X_padded.shape}\")\n",
    "print(f\"Maximum sequence length: {max_length}\")\n",
    "print(f\"Shape of X_train: {X_train.shape}\")\n",
    "print(f\"Shape of X_test: {X_test.shape}\")"
   ]
  },
  {
   "cell_type": "code",
   "execution_count": 14,
   "id": "81cfc3ed",
   "metadata": {
    "execution": {
     "iopub.execute_input": "2024-10-09T19:00:40.901514Z",
     "iopub.status.busy": "2024-10-09T19:00:40.901132Z",
     "iopub.status.idle": "2024-10-09T19:00:40.907490Z",
     "shell.execute_reply": "2024-10-09T19:00:40.906615Z"
    },
    "papermill": {
     "duration": 0.039787,
     "end_time": "2024-10-09T19:00:40.909548",
     "exception": false,
     "start_time": "2024-10-09T19:00:40.869761",
     "status": "completed"
    },
    "tags": []
   },
   "outputs": [],
   "source": [
    "import librosa\n",
    "from tensorflow.keras.preprocessing.sequence import pad_sequences\n",
    "import numpy as np\n",
    "\n",
    "def preprocess_audio(audio_path, max_length):\n",
    "    # Load the audio\n",
    "    audio, sr = librosa.load(audio_path, sr=None)\n",
    "    \n",
    "    # Extract MFCC features (use same parameters as training)\n",
    "    mfccs = librosa.feature.mfcc(y=audio, sr=sr, n_mfcc=13)\n",
    "    \n",
    "    # Transpose the MFCCs to match the input format\n",
    "    mfccs = mfccs.T\n",
    "    \n",
    "    # Pad the sequence to the max length used during training\n",
    "    padded_mfccs = pad_sequences([mfccs], maxlen=max_length, dtype='float32', padding='post', truncating='post')\n",
    "    \n",
    "    return padded_mfccs\n",
    "\n"
   ]
  },
  {
   "cell_type": "code",
   "execution_count": 15,
   "id": "bd3bb8f5",
   "metadata": {
    "execution": {
     "iopub.execute_input": "2024-10-09T19:00:40.971075Z",
     "iopub.status.busy": "2024-10-09T19:00:40.970733Z",
     "iopub.status.idle": "2024-10-09T19:00:48.009146Z",
     "shell.execute_reply": "2024-10-09T19:00:48.007983Z"
    },
    "papermill": {
     "duration": 7.07191,
     "end_time": "2024-10-09T19:00:48.011340",
     "exception": false,
     "start_time": "2024-10-09T19:00:40.939430",
     "status": "completed"
    },
    "tags": []
   },
   "outputs": [
    {
     "name": "stdout",
     "output_type": "stream",
     "text": [
      "\u001b[1m1/1\u001b[0m \u001b[32m━━━━━━━━━━━━━━━━━━━━\u001b[0m\u001b[37m\u001b[0m \u001b[1m1s\u001b[0m 1s/step\n",
      "/kaggle/input/deep-voice-deepfake-voice-recognition/KAGGLE/AUDIO/FAKE/trump-to-taylor.wav: Fake\n",
      "\u001b[1m1/1\u001b[0m \u001b[32m━━━━━━━━━━━━━━━━━━━━\u001b[0m\u001b[37m\u001b[0m \u001b[1m1s\u001b[0m 1s/step\n",
      "/kaggle/input/deep-voice-deepfake-voice-recognition/KAGGLE/AUDIO/REAL/biden-original.wav: Real\n"
     ]
    }
   ],
   "source": [
    "test_audio_paths = ['/kaggle/input/deep-voice-deepfake-voice-recognition/KAGGLE/AUDIO/FAKE/trump-to-taylor.wav', '/kaggle/input/deep-voice-deepfake-voice-recognition/KAGGLE/AUDIO/REAL/biden-original.wav']  # List of audio file paths\n",
    "\n",
    "for audio_path in test_audio_paths:\n",
    "    padded_sample = preprocess_audio(audio_path, max_length=X_train.shape[1])\n",
    "    prediction = model.predict(padded_sample)\n",
    "    predicted_class = np.argmax(prediction, axis=1)[0]\n",
    "    \n",
    "    if predicted_class == 1:\n",
    "        print(f\"{audio_path}: Fake\")\n",
    "    else:\n",
    "        print(f\"{audio_path}: Real\")\n"
   ]
  }
 ],
 "metadata": {
  "kaggle": {
   "accelerator": "nvidiaTeslaT4",
   "dataSources": [
    {
     "datasetId": 3579787,
     "sourceId": 6358196,
     "sourceType": "datasetVersion"
    }
   ],
   "dockerImageVersionId": 30786,
   "isGpuEnabled": true,
   "isInternetEnabled": true,
   "language": "python",
   "sourceType": "notebook"
  },
  "kernelspec": {
   "display_name": "Python 3",
   "language": "python",
   "name": "python3"
  },
  "language_info": {
   "codemirror_mode": {
    "name": "ipython",
    "version": 3
   },
   "file_extension": ".py",
   "mimetype": "text/x-python",
   "name": "python",
   "nbconvert_exporter": "python",
   "pygments_lexer": "ipython3",
   "version": "3.10.14"
  },
  "papermill": {
   "default_parameters": {},
   "duration": 763.063373,
   "end_time": "2024-10-09T19:00:51.538059",
   "environment_variables": {},
   "exception": null,
   "input_path": "__notebook__.ipynb",
   "output_path": "__notebook__.ipynb",
   "parameters": {},
   "start_time": "2024-10-09T18:48:08.474686",
   "version": "2.6.0"
  }
 },
 "nbformat": 4,
 "nbformat_minor": 5
}
